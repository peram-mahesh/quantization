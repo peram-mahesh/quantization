{
  "nbformat": 4,
  "nbformat_minor": 0,
  "metadata": {
    "colab": {
      "provenance": [],
      "gpuType": "T4"
    },
    "kernelspec": {
      "name": "python3",
      "display_name": "Python 3"
    },
    "language_info": {
      "name": "python"
    },
    "accelerator": "GPU"
  },
  "cells": [
    {
      "cell_type": "code",
      "source": [
        "!pip install tensorflow-model-optimization\n"
      ],
      "metadata": {
        "colab": {
          "base_uri": "https://localhost:8080/",
          "height": 516
        },
        "id": "lXkLBDW94D0w",
        "outputId": "a369b281-3c9e-4e09-a5fc-f80cf1a4d567"
      },
      "execution_count": 3,
      "outputs": [
        {
          "output_type": "stream",
          "name": "stdout",
          "text": [
            "Collecting tensorflow-model-optimization\n",
            "  Downloading tensorflow_model_optimization-0.8.0-py2.py3-none-any.whl.metadata (904 bytes)\n",
            "Requirement already satisfied: absl-py~=1.2 in /usr/local/lib/python3.11/dist-packages (from tensorflow-model-optimization) (1.4.0)\n",
            "Requirement already satisfied: dm-tree~=0.1.1 in /usr/local/lib/python3.11/dist-packages (from tensorflow-model-optimization) (0.1.9)\n",
            "Collecting numpy~=1.23 (from tensorflow-model-optimization)\n",
            "  Downloading numpy-1.26.4-cp311-cp311-manylinux_2_17_x86_64.manylinux2014_x86_64.whl.metadata (61 kB)\n",
            "\u001b[2K     \u001b[90m━━━━━━━━━━━━━━━━━━━━━━━━━━━━━━━━━━━━━━━━\u001b[0m \u001b[32m61.0/61.0 kB\u001b[0m \u001b[31m4.3 MB/s\u001b[0m eta \u001b[36m0:00:00\u001b[0m\n",
            "\u001b[?25hRequirement already satisfied: six~=1.14 in /usr/local/lib/python3.11/dist-packages (from tensorflow-model-optimization) (1.17.0)\n",
            "Requirement already satisfied: attrs>=18.2.0 in /usr/local/lib/python3.11/dist-packages (from dm-tree~=0.1.1->tensorflow-model-optimization) (25.3.0)\n",
            "Requirement already satisfied: wrapt>=1.11.2 in /usr/local/lib/python3.11/dist-packages (from dm-tree~=0.1.1->tensorflow-model-optimization) (1.17.2)\n",
            "Downloading tensorflow_model_optimization-0.8.0-py2.py3-none-any.whl (242 kB)\n",
            "\u001b[2K   \u001b[90m━━━━━━━━━━━━━━━━━━━━━━━━━━━━━━━━━━━━━━━━\u001b[0m \u001b[32m242.5/242.5 kB\u001b[0m \u001b[31m11.1 MB/s\u001b[0m eta \u001b[36m0:00:00\u001b[0m\n",
            "\u001b[?25hDownloading numpy-1.26.4-cp311-cp311-manylinux_2_17_x86_64.manylinux2014_x86_64.whl (18.3 MB)\n",
            "\u001b[2K   \u001b[90m━━━━━━━━━━━━━━━━━━━━━━━━━━━━━━━━━━━━━━━━\u001b[0m \u001b[32m18.3/18.3 MB\u001b[0m \u001b[31m117.2 MB/s\u001b[0m eta \u001b[36m0:00:00\u001b[0m\n",
            "\u001b[?25hInstalling collected packages: numpy, tensorflow-model-optimization\n",
            "  Attempting uninstall: numpy\n",
            "    Found existing installation: numpy 2.0.2\n",
            "    Uninstalling numpy-2.0.2:\n",
            "      Successfully uninstalled numpy-2.0.2\n",
            "\u001b[31mERROR: pip's dependency resolver does not currently take into account all the packages that are installed. This behaviour is the source of the following dependency conflicts.\n",
            "thinc 8.3.6 requires numpy<3.0.0,>=2.0.0, but you have numpy 1.26.4 which is incompatible.\u001b[0m\u001b[31m\n",
            "\u001b[0mSuccessfully installed numpy-1.26.4 tensorflow-model-optimization-0.8.0\n"
          ]
        },
        {
          "output_type": "display_data",
          "data": {
            "application/vnd.colab-display-data+json": {
              "pip_warning": {
                "packages": [
                  "numpy"
                ]
              },
              "id": "01bc273b22b34769bf3ab7a74e36f108"
            }
          },
          "metadata": {}
        }
      ]
    },
    {
      "cell_type": "code",
      "execution_count": 1,
      "metadata": {
        "id": "DBLUMOVrNDoe"
      },
      "outputs": [],
      "source": [
        "import tensorflow\n",
        "from tensorflow import keras\n",
        "import matplotlib.pyplot as plt\n",
        "import time\n",
        "import pathlib\n",
        "import tensorflow_model_optimization as tfmot"
      ]
    },
    {
      "cell_type": "code",
      "source": [
        "!pip install tensorflow_model_optimization"
      ],
      "metadata": {
        "colab": {
          "base_uri": "https://localhost:8080/"
        },
        "id": "7qyc9DygOAtr",
        "outputId": "b37c3670-c996-4a0b-c6f8-e53659452eb6"
      },
      "execution_count": null,
      "outputs": [
        {
          "output_type": "stream",
          "name": "stdout",
          "text": [
            "Requirement already satisfied: tensorflow_model_optimization in /usr/local/lib/python3.11/dist-packages (0.8.0)\n",
            "Requirement already satisfied: absl-py~=1.2 in /usr/local/lib/python3.11/dist-packages (from tensorflow_model_optimization) (1.4.0)\n",
            "Requirement already satisfied: dm-tree~=0.1.1 in /usr/local/lib/python3.11/dist-packages (from tensorflow_model_optimization) (0.1.9)\n",
            "Requirement already satisfied: numpy~=1.23 in /usr/local/lib/python3.11/dist-packages (from tensorflow_model_optimization) (1.26.4)\n",
            "Requirement already satisfied: six~=1.14 in /usr/local/lib/python3.11/dist-packages (from tensorflow_model_optimization) (1.17.0)\n",
            "Requirement already satisfied: attrs>=18.2.0 in /usr/local/lib/python3.11/dist-packages (from dm-tree~=0.1.1->tensorflow_model_optimization) (25.3.0)\n",
            "Requirement already satisfied: wrapt>=1.11.2 in /usr/local/lib/python3.11/dist-packages (from dm-tree~=0.1.1->tensorflow_model_optimization) (1.17.2)\n"
          ]
        }
      ]
    },
    {
      "cell_type": "code",
      "source": [
        "from tensorflow_model_optimization.python.core.keras.compat import keras"
      ],
      "metadata": {
        "id": "9EfAxWURODiK"
      },
      "execution_count": 2,
      "outputs": []
    },
    {
      "cell_type": "code",
      "source": [
        "(X_train, y_train), (X_test, y_test) = keras.datasets.mnist.load_data()\n",
        "X_train = X_train.reshape(60000, 28*28)\n",
        "X_test = X_test.reshape(10000, 28*28)\n",
        "print(X_train.shape)\n",
        "print(X_test.shape)\n",
        "print(y_train.shape)\n",
        "print(y_test.shape)"
      ],
      "metadata": {
        "colab": {
          "base_uri": "https://localhost:8080/"
        },
        "id": "kNjMzTtVOZ2T",
        "outputId": "d8084d95-a4f2-480b-8fea-21817135cfb7"
      },
      "execution_count": 3,
      "outputs": [
        {
          "output_type": "stream",
          "name": "stdout",
          "text": [
            "Downloading data from https://storage.googleapis.com/tensorflow/tf-keras-datasets/mnist.npz\n",
            "11490434/11490434 [==============================] - 0s 0us/step\n",
            "(60000, 784)\n",
            "(10000, 784)\n",
            "(60000,)\n",
            "(10000,)\n"
          ]
        }
      ]
    },
    {
      "cell_type": "code",
      "source": [
        "# Requirements\n",
        "requirements1 = keras.callbacks.ModelCheckpoint(\n",
        "            \"/content/main/PQT_normal_model.keras\",\n",
        "            monitor=\"val_loss\",\n",
        "            verbose=0,\n",
        "            save_best_only=True,\n",
        "            save_weights_only=False,\n",
        "            mode=\"min\",\n",
        "            save_freq=\"epoch\")"
      ],
      "metadata": {
        "id": "E2s1U3PRQ6jj"
      },
      "execution_count": 4,
      "outputs": []
    },
    {
      "cell_type": "code",
      "source": [
        "# Normal Model\n",
        "model = keras.Sequential()\n",
        "model.add(keras.layers.Input(shape = (784,)))\n",
        "model.add(keras.layers.Dense(50, activation = \"relu\"))\n",
        "model.add(keras.layers.Dense(50, activation = \"relu\"))\n",
        "model.add(keras.layers.Dense(10, activation = \"softmax\"))\n",
        "# Model summary\n",
        "model.summary()\n",
        "# Compiling the model\n",
        "model.compile(loss = \"sparse_categorical_crossentropy\", optimizer = 'adam', metrics = ['accuracy'])\n",
        "# Fitting the model\n",
        "history = model.fit(X_train, y_train, epochs = 10, batch_size = 256, validation_data = (X_test, y_test), callbacks = [requirements1])\n",
        "# Accuracy plot\n",
        "plt.subplot(1, 2, 1)\n",
        "plt.plot(history.history['accuracy'], label='Training Accuracy')\n",
        "plt.plot(history.history['val_accuracy'], label='Validation Accuracy')\n",
        "plt.title('Training and Validation Accuracy')\n",
        "plt.xlabel('Epoch')\n",
        "plt.ylabel('Accuracy')\n",
        "plt.legend()"
      ],
      "metadata": {
        "id": "viMZB798PQDv",
        "colab": {
          "base_uri": "https://localhost:8080/",
          "height": 1000
        },
        "outputId": "0c9b58b8-2b6d-4ce6-c243-4fcf2469c785"
      },
      "execution_count": 5,
      "outputs": [
        {
          "output_type": "stream",
          "name": "stdout",
          "text": [
            "Model: \"sequential\"\n",
            "_________________________________________________________________\n",
            " Layer (type)                Output Shape              Param #   \n",
            "=================================================================\n",
            " dense (Dense)               (None, 50)                39250     \n",
            "                                                                 \n",
            " dense_1 (Dense)             (None, 50)                2550      \n",
            "                                                                 \n",
            " dense_2 (Dense)             (None, 10)                510       \n",
            "                                                                 \n",
            "=================================================================\n",
            "Total params: 42310 (165.27 KB)\n",
            "Trainable params: 42310 (165.27 KB)\n",
            "Non-trainable params: 0 (0.00 Byte)\n",
            "_________________________________________________________________\n",
            "Epoch 1/10\n",
            "235/235 [==============================] - 3s 4ms/step - loss: 4.3834 - accuracy: 0.7601 - val_loss: 0.9943 - val_accuracy: 0.8489\n",
            "Epoch 2/10\n",
            "235/235 [==============================] - 1s 3ms/step - loss: 0.7261 - accuracy: 0.8719 - val_loss: 0.5995 - val_accuracy: 0.8894\n",
            "Epoch 3/10\n",
            "235/235 [==============================] - 1s 3ms/step - loss: 0.4528 - accuracy: 0.8994 - val_loss: 0.4548 - val_accuracy: 0.9025\n",
            "Epoch 4/10\n",
            "235/235 [==============================] - 1s 3ms/step - loss: 0.3366 - accuracy: 0.9159 - val_loss: 0.3842 - val_accuracy: 0.9149\n",
            "Epoch 5/10\n",
            "235/235 [==============================] - 1s 4ms/step - loss: 0.2760 - accuracy: 0.9276 - val_loss: 0.3570 - val_accuracy: 0.9155\n",
            "Epoch 6/10\n",
            "235/235 [==============================] - 1s 3ms/step - loss: 0.2410 - accuracy: 0.9351 - val_loss: 0.3090 - val_accuracy: 0.9241\n",
            "Epoch 7/10\n",
            "235/235 [==============================] - 1s 4ms/step - loss: 0.2108 - accuracy: 0.9403 - val_loss: 0.2906 - val_accuracy: 0.9319\n",
            "Epoch 8/10\n",
            "235/235 [==============================] - 1s 4ms/step - loss: 0.1903 - accuracy: 0.9464 - val_loss: 0.2742 - val_accuracy: 0.9341\n",
            "Epoch 9/10\n",
            "235/235 [==============================] - 1s 4ms/step - loss: 0.1756 - accuracy: 0.9499 - val_loss: 0.2782 - val_accuracy: 0.9352\n",
            "Epoch 10/10\n",
            "235/235 [==============================] - 1s 3ms/step - loss: 0.1653 - accuracy: 0.9531 - val_loss: 0.2592 - val_accuracy: 0.9354\n"
          ]
        },
        {
          "output_type": "execute_result",
          "data": {
            "text/plain": [
              "<matplotlib.legend.Legend at 0x7b4c042deb90>"
            ]
          },
          "metadata": {},
          "execution_count": 5
        },
        {
          "output_type": "display_data",
          "data": {
            "text/plain": [
              "<Figure size 640x480 with 1 Axes>"
            ],
            "image/png": "[encoded data removed]"
          },
          "metadata": {}
        }
      ]
    },
    {
      "cell_type": "markdown",
      "source": [
        "#PQT- Compression"
      ],
      "metadata": {
        "id": "ERej0BWjhXwp"
      }
    },
    {
      "cell_type": "code",
      "source": [
        "# loading the normal model\n",
        "start1 = time.time()\n",
        "model1 = keras.models.load_model(\"/content/main/PQT_normal_model.keras\")\n",
        "end1 = time.time()\n",
        "total1 = end1 - start1\n",
        "print(f\"Total time taken to load normal model is {total1}\")\n",
        "#model1.summary()\n",
        "\n",
        "# convert the model\n",
        "converter = tensorflow.lite.TFLiteConverter.from_keras_model(model1)\n",
        "converter.optimizations = [tensorflow.lite.Optimize.DEFAULT]\n",
        "tflite_quant_model = converter.convert()\n",
        "\n",
        "# save the model\n",
        "with open((\"/content/main/PQT_compressed_model.tflite\"), mode = 'wb') as file:\n",
        "    file.write(tflite_quant_model)\n",
        "\n",
        "# Loading tflite model\n",
        "start2 = time.time()\n",
        "compressed_model = tensorflow.lite.Interpreter(model_path = r\"/content/main/PQT_compressed_model.tflite\")\n",
        "compressed_model.allocate_tensors()\n",
        "end2 = time.time()\n",
        "total2 = end2 - start2\n",
        "print(f\"Total time taken to load quantized model is {total2}\")"
      ],
      "metadata": {
        "colab": {
          "base_uri": "https://localhost:8080/"
        },
        "id": "vueptOEXgyJq",
        "outputId": "cd240311-f032-45d2-e263-2be1196e193f"
      },
      "execution_count": 6,
      "outputs": [
        {
          "output_type": "stream",
          "name": "stdout",
          "text": [
            "Total time taken to load normal model is 0.08973574638366699\n",
            "Total time taken to load quantized model is 0.035930633544921875\n"
          ]
        }
      ]
    },
    {
      "cell_type": "markdown",
      "source": [
        "# PQT- Compression + Quantization"
      ],
      "metadata": {
        "id": "NKSjl3q_j5vH"
      }
    },
    {
      "cell_type": "code",
      "source": [
        "# load the model\n",
        "model2 = keras.models.load_model(\"/content/main/PQT_normal_model.keras\")\n",
        "#model2.summary()\n",
        "\n",
        "# Quantize the loaded model\n",
        "quantize_model = tfmot.quantization.keras.quantize_model\n",
        "quantized_model = quantize_model(model2)\n",
        "\n",
        "# convert the model\n",
        "converter = tensorflow.lite.TFLiteConverter.from_keras_model(quantized_model)\n",
        "converter.optimizations = [tensorflow.lite.Optimize.DEFAULT]\n",
        "tflite_quant_model = converter.convert()\n",
        "\n",
        "# save the model\n",
        "with open((\"/content/main/PQT_compressed_quantize_model.tflite\"), mode = 'wb') as file:\n",
        "    file.write(tflite_quant_model)"
      ],
      "metadata": {
        "colab": {
          "base_uri": "https://localhost:8080/"
        },
        "id": "3ljdLoyhhwkp",
        "outputId": "7533fb73-6faa-4c5e-faff-470de83923ef"
      },
      "execution_count": 14,
      "outputs": [
        {
          "output_type": "stream",
          "name": "stderr",
          "text": [
            "/usr/local/lib/python3.11/dist-packages/tensorflow/lite/python/convert.py:997: UserWarning: Statistics for quantized inputs were expected, but not specified; continuing anyway.\n",
            "  warnings.warn(\n"
          ]
        }
      ]
    },
    {
      "cell_type": "code",
      "source": [
        "\n",
        "quantized_model.compile(loss = \"sparse_categorical_crossentropy\", optimizer = 'adam', metrics = ['accuracy'])\n",
        "# Fitting the model\n",
        "history_3 = quantized_model.fit(X_train, y_train, epochs = 10, batch_size = 256, validation_data = (X_test, y_test), callbacks = [requirements1])\n",
        "# Accuracy plot\n",
        "plt.subplot(1, 2, 1)\n",
        "plt.plot(history_3.history['accuracy'], label='Training Accuracy')\n",
        "plt.plot(history_3.history['val_accuracy'], label='Validation Accuracy')\n",
        "plt.title('Training and Validation Accuracy')\n",
        "plt.xlabel('Epoch')\n",
        "plt.ylabel('Accuracy')\n",
        "plt.legend()"
      ],
      "metadata": {
        "colab": {
          "base_uri": "https://localhost:8080/",
          "height": 856
        },
        "id": "uOCuYt_r5ixB",
        "outputId": "b431701e-1752-4456-fedd-4b5814880018"
      },
      "execution_count": 15,
      "outputs": [
        {
          "output_type": "stream",
          "name": "stdout",
          "text": [
            "Epoch 1/10\n",
            "235/235 [==============================] - 3s 7ms/step - loss: 0.4385 - accuracy: 0.8831 - val_loss: 0.3163 - val_accuracy: 0.9283\n",
            "Epoch 2/10\n",
            "235/235 [==============================] - 2s 7ms/step - loss: 0.2891 - accuracy: 0.9343 - val_loss: 0.3482 - val_accuracy: 0.9318\n",
            "Epoch 3/10\n",
            "235/235 [==============================] - 1s 4ms/step - loss: 0.2424 - accuracy: 0.9459 - val_loss: 0.3034 - val_accuracy: 0.9421\n",
            "Epoch 4/10\n",
            "235/235 [==============================] - 1s 5ms/step - loss: 0.2025 - accuracy: 0.9530 - val_loss: 0.2826 - val_accuracy: 0.9470\n",
            "Epoch 5/10\n",
            "235/235 [==============================] - 1s 5ms/step - loss: 0.1650 - accuracy: 0.9597 - val_loss: 0.2535 - val_accuracy: 0.9480\n",
            "Epoch 6/10\n",
            "235/235 [==============================] - 1s 5ms/step - loss: 0.1418 - accuracy: 0.9625 - val_loss: 0.2475 - val_accuracy: 0.9456\n",
            "Epoch 7/10\n",
            "235/235 [==============================] - 1s 5ms/step - loss: 0.1336 - accuracy: 0.9640 - val_loss: 0.2063 - val_accuracy: 0.9531\n",
            "Epoch 8/10\n",
            "235/235 [==============================] - 1s 4ms/step - loss: 0.1097 - accuracy: 0.9687 - val_loss: 0.2065 - val_accuracy: 0.9550\n",
            "Epoch 9/10\n",
            "235/235 [==============================] - 1s 5ms/step - loss: 0.0966 - accuracy: 0.9714 - val_loss: 0.2049 - val_accuracy: 0.9568\n",
            "Epoch 10/10\n",
            "235/235 [==============================] - 1s 5ms/step - loss: 0.0903 - accuracy: 0.9731 - val_loss: 0.2019 - val_accuracy: 0.9568\n"
          ]
        },
        {
          "output_type": "execute_result",
          "data": {
            "text/plain": [
              "<matplotlib.legend.Legend at 0x7b4b82fc3710>"
            ]
          },
          "metadata": {},
          "execution_count": 15
        },
        {
          "output_type": "display_data",
          "data": {
            "text/plain": [
              "<Figure size 640x480 with 1 Axes>"
            ],
            "image/png": "[encoded data removed]"
          },
          "metadata": {}
        }
      ]
    },
    {
      "cell_type": "markdown",
      "source": [
        "# Quantization Aware Training"
      ],
      "metadata": {
        "id": "XRwGTpTKk0HL"
      }
    },
    {
      "cell_type": "markdown",
      "source": [
        "* Normal Approach: Create a model --> compile the model --> fit the model\n",
        " Graph( TA vs VA) and (TL vs VL)\n",
        "* Quantization Aware Approach: Create a model --> quantize the model --> compile the model --> fit the model\n",
        " Graph( TA vs VA) and (TL vs VL)"
      ],
      "metadata": {
        "id": "_RApkUc0lRHP"
      }
    },
    {
      "cell_type": "markdown",
      "source": [
        "* Normal Approach: Create a model --> compile the model --> fit the model\n",
        "Graph( TA vs VA) and (TL vs VL)"
      ],
      "metadata": {
        "id": "dfiDFO9elXcg"
      }
    },
    {
      "cell_type": "code",
      "source": [
        "# Requirements\n",
        "requirements2 = keras.callbacks.ModelCheckpoint(\n",
        "            \"/content/main/QAT_normal_model.keras\",\n",
        "            monitor=\"val_loss\",\n",
        "            verbose=0,\n",
        "            save_best_only=True,\n",
        "            save_weights_only=False,\n",
        "            mode=\"min\",\n",
        "            save_freq=\"epoch\")"
      ],
      "metadata": {
        "id": "wVzUKffDiva5"
      },
      "execution_count": 16,
      "outputs": []
    },
    {
      "cell_type": "code",
      "source": [
        "# Training model for QAT\n",
        "model3 = keras.Sequential()\n",
        "model3.add(keras.layers.Input(shape = (784,)))\n",
        "model3.add(keras.layers.Dense(100, activation = 'relu'))\n",
        "model3.add(keras.layers.Dense(100, activation = 'relu'))\n",
        "model3.add(keras.layers.Dense(10, activation = 'softmax'))\n",
        "\n",
        "# Then Quantize the model\n",
        "quantize_model = tfmot.quantization.keras.quantize_model\n",
        "quantized_model = quantize_model(model3)\n",
        "\n",
        "# Then compile the quantized model\n",
        "quantized_model.compile(loss = 'sparse_categorical_crossentropy', optimizer = 'adam', metrics = ['accuracy'])\n",
        "history2 = quantized_model.fit(X_train, y_train, batch_size = 256, epochs = 10, validation_data = (X_test, y_test), callbacks = [requirements2], verbose = 1)\n"
      ],
      "metadata": {
        "colab": {
          "base_uri": "https://localhost:8080/"
        },
        "id": "i11tY5Hfnfq5",
        "outputId": "0c72f934-782d-4522-c023-6695508870ac"
      },
      "execution_count": 20,
      "outputs": [
        {
          "output_type": "stream",
          "name": "stdout",
          "text": [
            "Epoch 1/10\n",
            "235/235 [==============================] - 3s 6ms/step - loss: 0.9968 - accuracy: 0.7089 - val_loss: 0.7112 - val_accuracy: 0.7634\n",
            "Epoch 2/10\n",
            "235/235 [==============================] - 1s 5ms/step - loss: 0.7900 - accuracy: 0.7244 - val_loss: 0.7941 - val_accuracy: 0.7511\n",
            "Epoch 3/10\n",
            "235/235 [==============================] - 1s 5ms/step - loss: 0.8614 - accuracy: 0.6768 - val_loss: 0.7311 - val_accuracy: 0.6914\n",
            "Epoch 4/10\n",
            "235/235 [==============================] - 2s 7ms/step - loss: 0.8606 - accuracy: 0.6438 - val_loss: 1.3418 - val_accuracy: 0.6041\n",
            "Epoch 5/10\n",
            "235/235 [==============================] - 1s 5ms/step - loss: 1.1401 - accuracy: 0.5624 - val_loss: 1.2382 - val_accuracy: 0.4019\n",
            "Epoch 6/10\n",
            "235/235 [==============================] - 1s 4ms/step - loss: 1.1998 - accuracy: 0.5314 - val_loss: 1.6910 - val_accuracy: 0.4361\n",
            "Epoch 7/10\n",
            "235/235 [==============================] - 1s 5ms/step - loss: 1.4710 - accuracy: 0.5178 - val_loss: 1.7918 - val_accuracy: 0.5752\n",
            "Epoch 8/10\n",
            "235/235 [==============================] - 1s 5ms/step - loss: 1.5639 - accuracy: 0.5280 - val_loss: 2.3649 - val_accuracy: 0.3551\n",
            "Epoch 9/10\n",
            "235/235 [==============================] - 1s 5ms/step - loss: 1.9334 - accuracy: 0.5415 - val_loss: 3.9039 - val_accuracy: 0.5945\n",
            "Epoch 10/10\n",
            "235/235 [==============================] - 2s 9ms/step - loss: 2.4451 - accuracy: 0.6102 - val_loss: 4.1927 - val_accuracy: 0.6278\n"
          ]
        }
      ]
    },
    {
      "cell_type": "code",
      "source": [
        "# convert the model\n",
        "converter = tensorflow.lite.TFLiteConverter.from_keras_model(quantized_model)\n",
        "converter.optimizations = [tensorflow.lite.Optimize.DEFAULT]\n",
        "tflite_quant_model = converter.convert()\n",
        "\n",
        "# save the model\n",
        "with open((\"/content/main/QAT_quantized_model.tflite\"), mode = 'wb') as file:\n",
        "    file.write(tflite_quant_model)\n",
        "\n",
        "# Loading tflite model\n",
        "start3 = time.time()\n",
        "compressed_model = tensorflow.lite.Interpreter(model_path = r\"/content/main/QAT_quantized_model.tflite\")\n",
        "compressed_model.allocate_tensors()\n",
        "end3 = time.time()\n",
        "total3 = end3 - start3\n",
        "print(f\"Total time taken to load quantized model is {total3}\")"
      ],
      "metadata": {
        "colab": {
          "base_uri": "https://localhost:8080/"
        },
        "id": "vWxV9HLHoWcx",
        "outputId": "b170835a-d494-430f-eb41-1fc4e17bc4a3"
      },
      "execution_count": 18,
      "outputs": [
        {
          "output_type": "stream",
          "name": "stdout",
          "text": [
            "Total time taken to load quantized model is 0.0007889270782470703\n"
          ]
        },
        {
          "output_type": "stream",
          "name": "stderr",
          "text": [
            "/usr/local/lib/python3.11/dist-packages/tensorflow/lite/python/convert.py:997: UserWarning: Statistics for quantized inputs were expected, but not specified; continuing anyway.\n",
            "  warnings.warn(\n"
          ]
        }
      ]
    },
    {
      "cell_type": "code",
      "source": [
        "# Time taken to load the QAT quatized model\n",
        "start4 = time.time()\n",
        "compressed_model = tensorflow.lite.Interpreter(model_path = r\"/content/main/QAT_quantized_model.tflite\")\n",
        "compressed_model.allocate_tensors()\n",
        "end4 = time.time()\n",
        "total4 = end4 - start4\n",
        "print(f\"Total time taken to load QAT quantized model is {total4}\")"
      ],
      "metadata": {
        "colab": {
          "base_uri": "https://localhost:8080/"
        },
        "id": "kMN8TBYrsAqy",
        "outputId": "b28a6a8b-ca5e-42fc-99dd-d3015287399f"
      },
      "execution_count": 19,
      "outputs": [
        {
          "output_type": "stream",
          "name": "stdout",
          "text": [
            "Total time taken to load QAT quantized model is 0.0006237030029296875\n"
          ]
        }
      ]
    },
    {
      "cell_type": "markdown",
      "source": [
        "# Comparision table\n",
        "1. Comparision between the file sizes before Quantization and after quantization\n",
        "2. compare the loss between the normal model , PQT and QAT model\n",
        "3. compare the accuracy between the normal model , PQT and QAT model\n",
        "4. comparing the model loading time  between the normal model , PQT and QAT model"
      ],
      "metadata": {
        "id": "hGp3TpEuEN42"
      }
    },
    {
      "cell_type": "markdown",
      "source": [
        "| Model Type                     | File Size | Loss    | Accuracy | Load Time (seconds) |\n",
        "|---------------------------------|-----------|---------|----------|--------------------|\n",
        "| Normal Model                    | 522 KB    | 0.1653  | 0.9531   | 0.0897             |\n",
        "| PQT Compressed + Quantized Model | 45 KB     | 0.0903  | 0.9731   | 0.0359             |\n",
        "| QAT Quantized Model              | 92 KB     | 0.9505  | 0.7449   | 0.0006             |\n"
      ],
      "metadata": {
        "id": "x1F-0987AMeV"
      }
    },
    {
      "cell_type": "code",
      "source": [],
      "metadata": {
        "id": "JlrUkpAPuzaY"
      },
      "execution_count": 19,
      "outputs": []
    }
  ]
}